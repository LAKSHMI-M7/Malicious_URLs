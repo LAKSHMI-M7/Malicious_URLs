{
 "cells": [
  {
   "cell_type": "code",
   "execution_count": 1,
   "id": "ea538a89",
   "metadata": {},
   "outputs": [
    {
     "name": "stdout",
     "output_type": "stream",
     "text": [
      "Dataset shape: (5000, 2)\n",
      "                                                      url        type\n",
      "536448             http://37.49.226.178/deusbins/deus.sh4     malware\n",
      "40630   medical-dictionary.thefreedictionary.com/Galt+...      benign\n",
      "630496                         www.jscape.com/sshfactory/    phishing\n",
      "426724  http://www.wsnc.org.au/component/jcalpro/view/983  defacement\n",
      "184034  virtualtourist.com/travel/North_America/Canada...      benign\n"
     ]
    }
   ],
   "source": [
    "import pandas as pd\n",
    "\n",
    "# Load only 5000 rows from the CSV\n",
    "df = pd.read_csv(\"malicious_phish.csv\").sample(n=5000, random_state=42)\n",
    "\n",
    "print(\"Dataset shape:\", df.shape)\n",
    "print(df.head())\n"
   ]
  },
  {
   "cell_type": "code",
   "execution_count": 2,
   "id": "23b22baf",
   "metadata": {},
   "outputs": [
    {
     "name": "stdout",
     "output_type": "stream",
     "text": [
      "                                                      url  type\n",
      "536448             http://37.49.226.178/deusbins/deus.sh4     2\n",
      "40630   medical-dictionary.thefreedictionary.com/Galt+...     0\n",
      "630496                         www.jscape.com/sshfactory/     3\n",
      "426724  http://www.wsnc.org.au/component/jcalpro/view/983     1\n",
      "184034  virtualtourist.com/travel/North_America/Canada...     0\n"
     ]
    }
   ],
   "source": [
    "from sklearn.preprocessing import LabelEncoder\n",
    "\n",
    "encoder = LabelEncoder()\n",
    "df['type'] = encoder.fit_transform(df['type'])\n",
    "print(df.head())\n",
    "\n",
    "\n",
    "\n"
   ]
  },
  {
   "cell_type": "code",
   "execution_count": 3,
   "id": "4429853d",
   "metadata": {},
   "outputs": [
    {
     "name": "stdout",
     "output_type": "stream",
     "text": [
      "Accuracy: 0.905\n"
     ]
    }
   ],
   "source": [
    "from sklearn.feature_extraction.text import TfidfVectorizer\n",
    "\n",
    "vectorizer = TfidfVectorizer()\n",
    "X = vectorizer.fit_transform(df['url'])\n",
    "y = df['type']\n",
    "\n",
    "from sklearn.model_selection import train_test_split\n",
    "from sklearn.ensemble import RandomForestClassifier\n",
    "from sklearn.metrics import accuracy_score\n",
    "\n",
    "# Split\n",
    "X_train, X_test, y_train, y_test = train_test_split(X, y, test_size=0.2, random_state=42)\n",
    "\n",
    "# Train\n",
    "model = RandomForestClassifier()\n",
    "model.fit(X_train, y_train)\n",
    "\n",
    "# Predict\n",
    "y_pred = model.predict(X_test)\n",
    "\n",
    "print(\"Accuracy:\", accuracy_score(y_test, y_pred))\n"
   ]
  },
  {
   "cell_type": "code",
   "execution_count": 5,
   "id": "52640a7c",
   "metadata": {},
   "outputs": [
    {
     "name": "stdout",
     "output_type": "stream",
     "text": [
      "              precision    recall  f1-score   support\n",
      "\n",
      "           0       0.91      0.98      0.94       661\n",
      "           1       0.91      0.94      0.93       145\n",
      "           2       0.98      0.82      0.89        50\n",
      "           3       0.86      0.56      0.68       144\n",
      "\n",
      "    accuracy                           0.91      1000\n",
      "   macro avg       0.91      0.83      0.86      1000\n",
      "weighted avg       0.90      0.91      0.90      1000\n",
      "\n"
     ]
    }
   ],
   "source": [
    "from sklearn.metrics import classification_report\n",
    "\n",
    "print(classification_report(y_test, y_pred))\n"
   ]
  },
  {
   "cell_type": "code",
   "execution_count": null,
   "id": "9b055931",
   "metadata": {},
   "outputs": [
    {
     "name": "stdout",
     "output_type": "stream",
     "text": [
      "Prediction: phishing\n",
      "Prediction: phishing\n"
     ]
    }
   ],
   "source": [
    "# 🔹 Step 8: User Input Prediction\n",
    "while True:\n",
    "    user_url = input(\"Enter a URL to check (or type 'exit' to quit): \")\n",
    "    if user_url.lower() == 'exit':\n",
    "        break\n",
    "    \n",
    "    # Convert user input into same feature format (TF-IDF)\n",
    "    user_feature = vectorizer.transform([user_url])\n",
    "    \n",
    "    # Predict\n",
    "    pred = model.predict(user_feature)[0]\n",
    "    \n",
    "    # Convert back to label name\n",
    "    result = encoder.inverse_transform([pred])[0]\n",
    "    print(\"Prediction:\", result)\n"
   ]
  }
 ],
 "metadata": {
  "kernelspec": {
   "display_name": "Python 3",
   "language": "python",
   "name": "python3"
  },
  "language_info": {
   "codemirror_mode": {
    "name": "ipython",
    "version": 3
   },
   "file_extension": ".py",
   "mimetype": "text/x-python",
   "name": "python",
   "nbconvert_exporter": "python",
   "pygments_lexer": "ipython3",
   "version": "3.13.3"
  }
 },
 "nbformat": 4,
 "nbformat_minor": 5
}
